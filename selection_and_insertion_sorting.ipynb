{
  "cells": [
    {
      "cell_type": "markdown",
      "metadata": {
        "id": "view-in-github",
        "colab_type": "text"
      },
      "source": [
        "<a href=\"https://colab.research.google.com/github/GauravVerma0393/GauravVerma0393/blob/main/selection_and_insertion_sorting.ipynb\" target=\"_parent\"><img src=\"https://colab.research.google.com/assets/colab-badge.svg\" alt=\"Open In Colab\"/></a>"
      ]
    },
    {
      "cell_type": "code",
      "execution_count": null,
      "id": "8f114fbb",
      "metadata": {
        "id": "8f114fbb",
        "outputId": "b74d28f3-20df-4176-836e-a5787457334e"
      },
      "outputs": [
        {
          "name": "stderr",
          "output_type": "stream",
          "text": [
            "<>:9: SyntaxWarning: str indices must be integers or slices, not tuple; perhaps you missed a comma?\n",
            "<>:9: SyntaxWarning: str indices must be integers or slices, not tuple; perhaps you missed a comma?\n",
            "C:\\Users\\Gaurav\\AppData\\Local\\Temp\\ipykernel_3364\\3058255456.py:9: SyntaxWarning: str indices must be integers or slices, not tuple; perhaps you missed a comma?\n",
            "  arr=array('i'[2,6,5,1,3,4])\n",
            "C:\\Users\\Gaurav\\AppData\\Local\\Temp\\ipykernel_3364\\3058255456.py:9: SyntaxWarning: str indices must be integers or slices, not tuple; perhaps you missed a comma?\n",
            "  arr=array('i'[2,6,5,1,3,4])\n",
            "C:\\Users\\Gaurav\\AppData\\Local\\Temp\\ipykernel_3364\\3058255456.py:9: SyntaxWarning: str indices must be integers or slices, not tuple; perhaps you missed a comma?\n",
            "  arr=array('i'[2,6,5,1,3,4])\n",
            "C:\\Users\\Gaurav\\AppData\\Local\\Temp\\ipykernel_3364\\3058255456.py:9: SyntaxWarning: str indices must be integers or slices, not tuple; perhaps you missed a comma?\n",
            "  arr=array('i'[2,6,5,1,3,4])\n",
            "C:\\Users\\Gaurav\\AppData\\Local\\Temp\\ipykernel_3364\\3058255456.py:9: SyntaxWarning: str indices must be integers or slices, not tuple; perhaps you missed a comma?\n",
            "  arr=array('i'[2,6,5,1,3,4])\n"
          ]
        },
        {
          "ename": "NameError",
          "evalue": "name 'array' is not defined",
          "output_type": "error",
          "traceback": [
            "\u001b[1;31m---------------------------------------------------------------------------\u001b[0m",
            "\u001b[1;31mNameError\u001b[0m                                 Traceback (most recent call last)",
            "Cell \u001b[1;32mIn[1], line 9\u001b[0m\n\u001b[0;32m      7\u001b[0m                 min_value\u001b[38;5;241m=\u001b[39mj\n\u001b[0;32m      8\u001b[0m         arr[i],arr[min_value]\u001b[38;5;241m=\u001b[39marr[min_value],arr[i]\n\u001b[1;32m----> 9\u001b[0m arr\u001b[38;5;241m=\u001b[39marray(\u001b[38;5;124m'\u001b[39m\u001b[38;5;124mi\u001b[39m\u001b[38;5;124m'\u001b[39m[\u001b[38;5;241m2\u001b[39m,\u001b[38;5;241m6\u001b[39m,\u001b[38;5;241m5\u001b[39m,\u001b[38;5;241m1\u001b[39m,\u001b[38;5;241m3\u001b[39m,\u001b[38;5;241m4\u001b[39m])\n\u001b[0;32m     10\u001b[0m selection_sort(arr)\n\u001b[0;32m     11\u001b[0m \u001b[38;5;28mprint\u001b[39m(arr)\n",
            "\u001b[1;31mNameError\u001b[0m: name 'array' is not defined"
          ]
        }
      ],
      "source": [
        "def selection_sort(array):\n",
        "    n=len(arr)\n",
        "    for i in range(0,n-1):\n",
        "        min_value=i\n",
        "        for j in range(i+1,n):\n",
        "            if arr[min_valur]>arr[j]:\n",
        "                min_value=j\n",
        "        arr[i],arr[min_value]=arr[min_value],arr[i]\n",
        "arr=array('i'[2,6,5,1,3,4])\n",
        "selection_sort(arr)\n",
        "print(arr)\n",
        ""
      ]
    },
    {
      "cell_type": "code",
      "execution_count": null,
      "id": "5ebce9da",
      "metadata": {
        "id": "5ebce9da"
      },
      "outputs": [],
      "source": [
        "import array\n",
        "from array import*"
      ]
    },
    {
      "cell_type": "code",
      "execution_count": null,
      "id": "8dcb8b7a",
      "metadata": {
        "id": "8dcb8b7a",
        "outputId": "75d75911-a294-424f-94ef-3b54b94b779e"
      },
      "outputs": [
        {
          "name": "stdout",
          "output_type": "stream",
          "text": [
            "array('i', [1, 2, 3, 4, 5, 6])\n"
          ]
        }
      ],
      "source": [
        "def selection_sort(array):\n",
        "    n=len(arr)\n",
        "    for i in range(0,n-1):\n",
        "        min_value=i\n",
        "        for j in range(i+1,n):\n",
        "            if arr[min_value]>arr[j]:\n",
        "                min_value=j\n",
        "        arr[i],arr[min_value]=arr[min_value],arr[i]\n",
        "arr=array('i',[2,6,5,1,3,4])\n",
        "selection_sort(arr)\n",
        "print(arr)"
      ]
    },
    {
      "cell_type": "code",
      "execution_count": null,
      "id": "f617b8df",
      "metadata": {
        "id": "f617b8df",
        "outputId": "8bd92a58-a46d-443c-a75f-d42e3d9249dd"
      },
      "outputs": [
        {
          "name": "stdout",
          "output_type": "stream",
          "text": [
            "array('i', [2, 3, 5, 6, 7, 8, 9, 10])\n"
          ]
        }
      ],
      "source": [
        "def insertion_sort(array):\n",
        "    for i in range(1,len(arr)):\n",
        "        j=i\n",
        "        while arr[j-1]>arr[j] and j>0:\n",
        "            arr[j-1],arr[j]=arr[j],arr[j-1]\n",
        "            j=j-1\n",
        "arr=array('i',[5,3,7,9,2,8,10,6])\n",
        "insertion_sort(arr)\n",
        "print(arr)\n",
        ""
      ]
    },
    {
      "cell_type": "markdown",
      "id": "f585bc76",
      "metadata": {
        "id": "f585bc76"
      },
      "source": []
    },
    {
      "cell_type": "code",
      "execution_count": null,
      "id": "d00d0ebe",
      "metadata": {
        "id": "d00d0ebe"
      },
      "outputs": [],
      "source": []
    }
  ],
  "metadata": {
    "kernelspec": {
      "display_name": "Python 3 (ipykernel)",
      "language": "python",
      "name": "python3"
    },
    "language_info": {
      "codemirror_mode": {
        "name": "ipython",
        "version": 3
      },
      "file_extension": ".py",
      "mimetype": "text/x-python",
      "name": "python",
      "nbconvert_exporter": "python",
      "pygments_lexer": "ipython3",
      "version": "3.11.4"
    },
    "colab": {
      "provenance": [],
      "include_colab_link": true
    }
  },
  "nbformat": 4,
  "nbformat_minor": 5
}